#triangle
b=float(input("base: "))
h=float(input("height: "))

area= 0.5*b*h
print(f"area: {area:.2f}")
